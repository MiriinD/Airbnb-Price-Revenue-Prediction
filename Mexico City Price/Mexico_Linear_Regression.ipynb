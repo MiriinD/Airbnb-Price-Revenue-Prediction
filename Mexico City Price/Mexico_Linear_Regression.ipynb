{
 "cells": [
  {
   "cell_type": "code",
   "execution_count": 48,
   "id": "2b0db9ed-9c15-4d74-9c23-6ed9a7366191",
   "metadata": {
    "tags": []
   },
   "outputs": [],
   "source": [
    "import pandas as pd\n",
    "from sklearn.preprocessing import OrdinalEncoder\n",
    "from sklearn.model_selection import train_test_split\n",
    "from sklearn.preprocessing import MinMaxScaler\n",
    "from sklearn.preprocessing import PowerTransformer\n",
    "from sklearn.preprocessing import StandardScaler\n",
    "from sklearn.linear_model import LinearRegression\n",
    "from sklearn.metrics import mean_squared_error\n",
    "from sklearn.metrics import mean_absolute_error\n",
    "from sklearn.metrics import mean_squared_error\n",
    "from sklearn.metrics import r2_score\n",
    "from math import sqrt\n",
    "import numpy as np\n",
    "import seaborn as sns\n",
    "import matplotlib.pyplot as plt\n",
    "from sklearn.metrics import mean_squared_error as mse, mean_absolute_error as mae\n",
    "\n",
    "url = 'clean_airbnb_df_mexico.csv'\n",
    "df = pd.read_csv(url)"
   ]
  },
  {
   "cell_type": "code",
   "execution_count": 49,
   "id": "0bb93feb-4130-4c6c-93d8-0df5c79346c4",
   "metadata": {
    "tags": []
   },
   "outputs": [],
   "source": [
    "final_df = df"
   ]
  },
  {
   "cell_type": "code",
   "execution_count": 50,
   "id": "a6c0aefd-4ebf-41f6-812d-f4c9bd0d4c5b",
   "metadata": {
    "tags": []
   },
   "outputs": [
    {
     "data": {
      "text/html": [
       "<div>\n",
       "<style scoped>\n",
       "    .dataframe tbody tr th:only-of-type {\n",
       "        vertical-align: middle;\n",
       "    }\n",
       "\n",
       "    .dataframe tbody tr th {\n",
       "        vertical-align: top;\n",
       "    }\n",
       "\n",
       "    .dataframe thead th {\n",
       "        text-align: right;\n",
       "    }\n",
       "</style>\n",
       "<table border=\"1\" class=\"dataframe\">\n",
       "  <thead>\n",
       "    <tr style=\"text-align: right;\">\n",
       "      <th></th>\n",
       "      <th>Unnamed: 0</th>\n",
       "      <th>neighbourhood_Azcapotzalco</th>\n",
       "      <th>neighbourhood_Benito Juárez</th>\n",
       "      <th>neighbourhood_Coyoacán</th>\n",
       "      <th>neighbourhood_Cuajimalpa de Morelos</th>\n",
       "      <th>neighbourhood_Cuauhtémoc</th>\n",
       "      <th>neighbourhood_Gustavo A. Madero</th>\n",
       "      <th>neighbourhood_Iztacalco</th>\n",
       "      <th>neighbourhood_Iztapalapa</th>\n",
       "      <th>neighbourhood_Miguel Hidalgo</th>\n",
       "      <th>...</th>\n",
       "      <th>neighbourhood_Venustiano Carranza</th>\n",
       "      <th>neighbourhood_Xochimilco</th>\n",
       "      <th>neighbourhood_Álvaro Obregón</th>\n",
       "      <th>latitude</th>\n",
       "      <th>longitude</th>\n",
       "      <th>accommodates</th>\n",
       "      <th>bathrooms</th>\n",
       "      <th>price</th>\n",
       "      <th>availability_365</th>\n",
       "      <th>number_of_reviews</th>\n",
       "    </tr>\n",
       "  </thead>\n",
       "  <tbody>\n",
       "    <tr>\n",
       "      <th>0</th>\n",
       "      <td>1</td>\n",
       "      <td>0</td>\n",
       "      <td>0</td>\n",
       "      <td>0</td>\n",
       "      <td>0</td>\n",
       "      <td>1</td>\n",
       "      <td>0</td>\n",
       "      <td>0</td>\n",
       "      <td>0</td>\n",
       "      <td>0</td>\n",
       "      <td>...</td>\n",
       "      <td>0</td>\n",
       "      <td>0</td>\n",
       "      <td>0</td>\n",
       "      <td>19.411620</td>\n",
       "      <td>-99.177940</td>\n",
       "      <td>14</td>\n",
       "      <td>4.0</td>\n",
       "      <td>6430</td>\n",
       "      <td>365</td>\n",
       "      <td>64</td>\n",
       "    </tr>\n",
       "    <tr>\n",
       "      <th>1</th>\n",
       "      <td>2</td>\n",
       "      <td>0</td>\n",
       "      <td>0</td>\n",
       "      <td>0</td>\n",
       "      <td>0</td>\n",
       "      <td>1</td>\n",
       "      <td>0</td>\n",
       "      <td>0</td>\n",
       "      <td>0</td>\n",
       "      <td>0</td>\n",
       "      <td>...</td>\n",
       "      <td>0</td>\n",
       "      <td>0</td>\n",
       "      <td>0</td>\n",
       "      <td>19.429101</td>\n",
       "      <td>-99.160763</td>\n",
       "      <td>2</td>\n",
       "      <td>1.5</td>\n",
       "      <td>3350</td>\n",
       "      <td>89</td>\n",
       "      <td>221</td>\n",
       "    </tr>\n",
       "    <tr>\n",
       "      <th>2</th>\n",
       "      <td>3</td>\n",
       "      <td>0</td>\n",
       "      <td>0</td>\n",
       "      <td>0</td>\n",
       "      <td>0</td>\n",
       "      <td>0</td>\n",
       "      <td>1</td>\n",
       "      <td>0</td>\n",
       "      <td>0</td>\n",
       "      <td>0</td>\n",
       "      <td>...</td>\n",
       "      <td>0</td>\n",
       "      <td>0</td>\n",
       "      <td>0</td>\n",
       "      <td>19.483210</td>\n",
       "      <td>-99.112410</td>\n",
       "      <td>2</td>\n",
       "      <td>1.0</td>\n",
       "      <td>339</td>\n",
       "      <td>86</td>\n",
       "      <td>6</td>\n",
       "    </tr>\n",
       "    <tr>\n",
       "      <th>3</th>\n",
       "      <td>4</td>\n",
       "      <td>0</td>\n",
       "      <td>0</td>\n",
       "      <td>0</td>\n",
       "      <td>0</td>\n",
       "      <td>1</td>\n",
       "      <td>0</td>\n",
       "      <td>0</td>\n",
       "      <td>0</td>\n",
       "      <td>0</td>\n",
       "      <td>...</td>\n",
       "      <td>0</td>\n",
       "      <td>0</td>\n",
       "      <td>0</td>\n",
       "      <td>19.432210</td>\n",
       "      <td>-99.157080</td>\n",
       "      <td>2</td>\n",
       "      <td>1.5</td>\n",
       "      <td>1273</td>\n",
       "      <td>329</td>\n",
       "      <td>22</td>\n",
       "    </tr>\n",
       "    <tr>\n",
       "      <th>4</th>\n",
       "      <td>5</td>\n",
       "      <td>0</td>\n",
       "      <td>0</td>\n",
       "      <td>0</td>\n",
       "      <td>0</td>\n",
       "      <td>0</td>\n",
       "      <td>0</td>\n",
       "      <td>0</td>\n",
       "      <td>0</td>\n",
       "      <td>1</td>\n",
       "      <td>...</td>\n",
       "      <td>0</td>\n",
       "      <td>0</td>\n",
       "      <td>0</td>\n",
       "      <td>19.428330</td>\n",
       "      <td>-99.176340</td>\n",
       "      <td>2</td>\n",
       "      <td>2.0</td>\n",
       "      <td>1002</td>\n",
       "      <td>115</td>\n",
       "      <td>99</td>\n",
       "    </tr>\n",
       "    <tr>\n",
       "      <th>...</th>\n",
       "      <td>...</td>\n",
       "      <td>...</td>\n",
       "      <td>...</td>\n",
       "      <td>...</td>\n",
       "      <td>...</td>\n",
       "      <td>...</td>\n",
       "      <td>...</td>\n",
       "      <td>...</td>\n",
       "      <td>...</td>\n",
       "      <td>...</td>\n",
       "      <td>...</td>\n",
       "      <td>...</td>\n",
       "      <td>...</td>\n",
       "      <td>...</td>\n",
       "      <td>...</td>\n",
       "      <td>...</td>\n",
       "      <td>...</td>\n",
       "      <td>...</td>\n",
       "      <td>...</td>\n",
       "      <td>...</td>\n",
       "      <td>...</td>\n",
       "    </tr>\n",
       "    <tr>\n",
       "      <th>25072</th>\n",
       "      <td>25695</td>\n",
       "      <td>0</td>\n",
       "      <td>1</td>\n",
       "      <td>0</td>\n",
       "      <td>0</td>\n",
       "      <td>0</td>\n",
       "      <td>0</td>\n",
       "      <td>0</td>\n",
       "      <td>0</td>\n",
       "      <td>0</td>\n",
       "      <td>...</td>\n",
       "      <td>0</td>\n",
       "      <td>0</td>\n",
       "      <td>0</td>\n",
       "      <td>19.381450</td>\n",
       "      <td>-99.148560</td>\n",
       "      <td>2</td>\n",
       "      <td>1.0</td>\n",
       "      <td>970</td>\n",
       "      <td>265</td>\n",
       "      <td>0</td>\n",
       "    </tr>\n",
       "    <tr>\n",
       "      <th>25073</th>\n",
       "      <td>25696</td>\n",
       "      <td>0</td>\n",
       "      <td>0</td>\n",
       "      <td>0</td>\n",
       "      <td>0</td>\n",
       "      <td>1</td>\n",
       "      <td>0</td>\n",
       "      <td>0</td>\n",
       "      <td>0</td>\n",
       "      <td>0</td>\n",
       "      <td>...</td>\n",
       "      <td>0</td>\n",
       "      <td>0</td>\n",
       "      <td>0</td>\n",
       "      <td>19.413522</td>\n",
       "      <td>-99.175167</td>\n",
       "      <td>2</td>\n",
       "      <td>1.0</td>\n",
       "      <td>175</td>\n",
       "      <td>262</td>\n",
       "      <td>0</td>\n",
       "    </tr>\n",
       "    <tr>\n",
       "      <th>25074</th>\n",
       "      <td>25697</td>\n",
       "      <td>0</td>\n",
       "      <td>0</td>\n",
       "      <td>0</td>\n",
       "      <td>0</td>\n",
       "      <td>1</td>\n",
       "      <td>0</td>\n",
       "      <td>0</td>\n",
       "      <td>0</td>\n",
       "      <td>0</td>\n",
       "      <td>...</td>\n",
       "      <td>0</td>\n",
       "      <td>0</td>\n",
       "      <td>0</td>\n",
       "      <td>19.411594</td>\n",
       "      <td>-99.167618</td>\n",
       "      <td>5</td>\n",
       "      <td>2.0</td>\n",
       "      <td>1166</td>\n",
       "      <td>266</td>\n",
       "      <td>0</td>\n",
       "    </tr>\n",
       "    <tr>\n",
       "      <th>25075</th>\n",
       "      <td>25698</td>\n",
       "      <td>0</td>\n",
       "      <td>0</td>\n",
       "      <td>0</td>\n",
       "      <td>0</td>\n",
       "      <td>1</td>\n",
       "      <td>0</td>\n",
       "      <td>0</td>\n",
       "      <td>0</td>\n",
       "      <td>0</td>\n",
       "      <td>...</td>\n",
       "      <td>0</td>\n",
       "      <td>0</td>\n",
       "      <td>0</td>\n",
       "      <td>19.403856</td>\n",
       "      <td>-99.164122</td>\n",
       "      <td>2</td>\n",
       "      <td>1.0</td>\n",
       "      <td>286</td>\n",
       "      <td>267</td>\n",
       "      <td>0</td>\n",
       "    </tr>\n",
       "    <tr>\n",
       "      <th>25076</th>\n",
       "      <td>25699</td>\n",
       "      <td>0</td>\n",
       "      <td>1</td>\n",
       "      <td>0</td>\n",
       "      <td>0</td>\n",
       "      <td>0</td>\n",
       "      <td>0</td>\n",
       "      <td>0</td>\n",
       "      <td>0</td>\n",
       "      <td>0</td>\n",
       "      <td>...</td>\n",
       "      <td>0</td>\n",
       "      <td>0</td>\n",
       "      <td>0</td>\n",
       "      <td>19.386484</td>\n",
       "      <td>-99.177185</td>\n",
       "      <td>2</td>\n",
       "      <td>1.0</td>\n",
       "      <td>800</td>\n",
       "      <td>269</td>\n",
       "      <td>0</td>\n",
       "    </tr>\n",
       "  </tbody>\n",
       "</table>\n",
       "<p>25077 rows × 23 columns</p>\n",
       "</div>"
      ],
      "text/plain": [
       "       Unnamed: 0  neighbourhood_Azcapotzalco  neighbourhood_Benito Juárez  \\\n",
       "0               1                           0                            0   \n",
       "1               2                           0                            0   \n",
       "2               3                           0                            0   \n",
       "3               4                           0                            0   \n",
       "4               5                           0                            0   \n",
       "...           ...                         ...                          ...   \n",
       "25072       25695                           0                            1   \n",
       "25073       25696                           0                            0   \n",
       "25074       25697                           0                            0   \n",
       "25075       25698                           0                            0   \n",
       "25076       25699                           0                            1   \n",
       "\n",
       "       neighbourhood_Coyoacán  neighbourhood_Cuajimalpa de Morelos  \\\n",
       "0                           0                                    0   \n",
       "1                           0                                    0   \n",
       "2                           0                                    0   \n",
       "3                           0                                    0   \n",
       "4                           0                                    0   \n",
       "...                       ...                                  ...   \n",
       "25072                       0                                    0   \n",
       "25073                       0                                    0   \n",
       "25074                       0                                    0   \n",
       "25075                       0                                    0   \n",
       "25076                       0                                    0   \n",
       "\n",
       "       neighbourhood_Cuauhtémoc  neighbourhood_Gustavo A. Madero  \\\n",
       "0                             1                                0   \n",
       "1                             1                                0   \n",
       "2                             0                                1   \n",
       "3                             1                                0   \n",
       "4                             0                                0   \n",
       "...                         ...                              ...   \n",
       "25072                         0                                0   \n",
       "25073                         1                                0   \n",
       "25074                         1                                0   \n",
       "25075                         1                                0   \n",
       "25076                         0                                0   \n",
       "\n",
       "       neighbourhood_Iztacalco  neighbourhood_Iztapalapa  \\\n",
       "0                            0                         0   \n",
       "1                            0                         0   \n",
       "2                            0                         0   \n",
       "3                            0                         0   \n",
       "4                            0                         0   \n",
       "...                        ...                       ...   \n",
       "25072                        0                         0   \n",
       "25073                        0                         0   \n",
       "25074                        0                         0   \n",
       "25075                        0                         0   \n",
       "25076                        0                         0   \n",
       "\n",
       "       neighbourhood_Miguel Hidalgo  ...  neighbourhood_Venustiano Carranza  \\\n",
       "0                                 0  ...                                  0   \n",
       "1                                 0  ...                                  0   \n",
       "2                                 0  ...                                  0   \n",
       "3                                 0  ...                                  0   \n",
       "4                                 1  ...                                  0   \n",
       "...                             ...  ...                                ...   \n",
       "25072                             0  ...                                  0   \n",
       "25073                             0  ...                                  0   \n",
       "25074                             0  ...                                  0   \n",
       "25075                             0  ...                                  0   \n",
       "25076                             0  ...                                  0   \n",
       "\n",
       "       neighbourhood_Xochimilco  neighbourhood_Álvaro Obregón   latitude  \\\n",
       "0                             0                             0  19.411620   \n",
       "1                             0                             0  19.429101   \n",
       "2                             0                             0  19.483210   \n",
       "3                             0                             0  19.432210   \n",
       "4                             0                             0  19.428330   \n",
       "...                         ...                           ...        ...   \n",
       "25072                         0                             0  19.381450   \n",
       "25073                         0                             0  19.413522   \n",
       "25074                         0                             0  19.411594   \n",
       "25075                         0                             0  19.403856   \n",
       "25076                         0                             0  19.386484   \n",
       "\n",
       "       longitude  accommodates  bathrooms  price  availability_365  \\\n",
       "0     -99.177940            14        4.0   6430               365   \n",
       "1     -99.160763             2        1.5   3350                89   \n",
       "2     -99.112410             2        1.0    339                86   \n",
       "3     -99.157080             2        1.5   1273               329   \n",
       "4     -99.176340             2        2.0   1002               115   \n",
       "...          ...           ...        ...    ...               ...   \n",
       "25072 -99.148560             2        1.0    970               265   \n",
       "25073 -99.175167             2        1.0    175               262   \n",
       "25074 -99.167618             5        2.0   1166               266   \n",
       "25075 -99.164122             2        1.0    286               267   \n",
       "25076 -99.177185             2        1.0    800               269   \n",
       "\n",
       "       number_of_reviews  \n",
       "0                     64  \n",
       "1                    221  \n",
       "2                      6  \n",
       "3                     22  \n",
       "4                     99  \n",
       "...                  ...  \n",
       "25072                  0  \n",
       "25073                  0  \n",
       "25074                  0  \n",
       "25075                  0  \n",
       "25076                  0  \n",
       "\n",
       "[25077 rows x 23 columns]"
      ]
     },
     "execution_count": 50,
     "metadata": {},
     "output_type": "execute_result"
    }
   ],
   "source": [
    "final_df"
   ]
  },
  {
   "cell_type": "code",
   "execution_count": 51,
   "id": "9a0da1a4-4d75-4538-88c0-b51c126896f4",
   "metadata": {
    "tags": []
   },
   "outputs": [],
   "source": [
    "final_df = final_df.drop(['Unnamed: 0'], axis=1)"
   ]
  },
  {
   "cell_type": "markdown",
   "id": "f988a0b1-a6e5-4e11-baf9-6f7c0b8c6478",
   "metadata": {},
   "source": [
    "# X-y Splitt"
   ]
  },
  {
   "cell_type": "code",
   "execution_count": 52,
   "id": "d2aaf65e-b764-4abc-be70-0e3d7c658161",
   "metadata": {
    "tags": []
   },
   "outputs": [],
   "source": [
    "X = final_df.drop(columns=['price'])\n",
    "y = final_df[['price']]"
   ]
  },
  {
   "cell_type": "markdown",
   "id": "f69c8bd9-b6b4-418d-8bb0-167937f2bc1f",
   "metadata": {},
   "source": [
    "## Train test split"
   ]
  },
  {
   "cell_type": "code",
   "execution_count": 53,
   "id": "8991cb9c-41f9-41b6-8cf2-316046d637ff",
   "metadata": {
    "tags": []
   },
   "outputs": [],
   "source": [
    "X_train, X_test, y_train, y_test = train_test_split(X,y, random_state= 42)"
   ]
  },
  {
   "cell_type": "code",
   "execution_count": null,
   "id": "d0cc3af0-a55d-41e2-aaf6-6b6476445de1",
   "metadata": {
    "tags": []
   },
   "outputs": [],
   "source": []
  },
  {
   "cell_type": "markdown",
   "id": "3f54a3d2-a606-499b-b1eb-e1532b601caf",
   "metadata": {},
   "source": [
    "### Standardize the data (after the data split!)"
   ]
  },
  {
   "cell_type": "markdown",
   "id": "ad1570b4-6d68-4556-9f2b-e9537882840f",
   "metadata": {},
   "source": [
    "#### MinMaxScaler"
   ]
  },
  {
   "cell_type": "code",
   "execution_count": 54,
   "id": "d6fde213-e902-4bae-aae1-0db641b62377",
   "metadata": {
    "tags": []
   },
   "outputs": [],
   "source": [
    "# MinMaxScaler X_train\n",
    "scaler1 = MinMaxScaler()\n",
    "X_train = scaler1.fit_transform(X_train)"
   ]
  },
  {
   "cell_type": "code",
   "execution_count": 55,
   "id": "304268bb-1c03-4256-ad1d-5370fd67360f",
   "metadata": {
    "tags": []
   },
   "outputs": [],
   "source": [
    "# MinMaxScaler X_test\n",
    "X_test = scaler1.transform(X_test)"
   ]
  },
  {
   "cell_type": "code",
   "execution_count": 56,
   "id": "60a5398d-6203-4dd5-b6d2-564e301de774",
   "metadata": {
    "tags": []
   },
   "outputs": [],
   "source": [
    "#MinMaxScaler y_train\n",
    "scaler2 = MinMaxScaler()\n",
    "y_train = scaler2.fit_transform(y_train)"
   ]
  },
  {
   "cell_type": "code",
   "execution_count": 57,
   "id": "507e814d-9c4e-4ee8-bc79-6a17c138b185",
   "metadata": {
    "tags": []
   },
   "outputs": [],
   "source": [
    "#MinMaxScaler y_test\n",
    "y_test = scaler2.transform(y_test)"
   ]
  },
  {
   "cell_type": "markdown",
   "id": "55c33087-1d11-48b8-accf-f262e0dacfaf",
   "metadata": {},
   "source": [
    "#### PowerTransform"
   ]
  },
  {
   "cell_type": "code",
   "execution_count": 58,
   "id": "52b6e46b-7cfb-4400-a45c-c67deaae2ed3",
   "metadata": {
    "tags": []
   },
   "outputs": [],
   "source": [
    "#PowerTransform X_train\n",
    "# pt1 = PowerTransformer()\n",
    "# X_train = pt1.fit_transform(X_train)"
   ]
  },
  {
   "cell_type": "code",
   "execution_count": 59,
   "id": "8331c7e7-33d5-46e5-ac40-714f5841f9bd",
   "metadata": {
    "tags": []
   },
   "outputs": [],
   "source": [
    "#PowerTransform X_test\n",
    "# X_test = pt1.transform(X_test)"
   ]
  },
  {
   "cell_type": "code",
   "execution_count": 60,
   "id": "b1441d78-5024-4acb-88a5-c4a2852e097e",
   "metadata": {
    "tags": []
   },
   "outputs": [],
   "source": [
    "#PowerTransform y_train\n",
    "# pt2 = PowerTransformer()\n",
    "# y_train = pt2.fit_transform(y_train)"
   ]
  },
  {
   "cell_type": "code",
   "execution_count": 61,
   "id": "49d82579-c062-40d4-a597-8e32e7df3dc5",
   "metadata": {
    "tags": []
   },
   "outputs": [],
   "source": [
    "#PowerTransform y_test\n",
    "# y_test = pt2.transform(y_test)"
   ]
  },
  {
   "cell_type": "markdown",
   "id": "dd463583-3d1d-4e56-9cd1-e01271c7accf",
   "metadata": {},
   "source": [
    "#### StandardScaler"
   ]
  },
  {
   "cell_type": "code",
   "execution_count": 62,
   "id": "74938ada-0594-4273-93dc-ef69c13e5f77",
   "metadata": {
    "tags": []
   },
   "outputs": [],
   "source": [
    "# StandardScaler X_train\n",
    "# scaler1 = StandardScaler()\n",
    "# X_train = scaler1.fit_transform(X_train)"
   ]
  },
  {
   "cell_type": "code",
   "execution_count": 63,
   "id": "416fe7dc-a097-4c6a-b391-947702a91986",
   "metadata": {
    "tags": []
   },
   "outputs": [],
   "source": [
    "# StandardScaler X_test\n",
    "# X_test = scaler1.transform(X_test)"
   ]
  },
  {
   "cell_type": "code",
   "execution_count": 64,
   "id": "b8212682-96cd-4487-b973-7a68dce71111",
   "metadata": {
    "tags": []
   },
   "outputs": [],
   "source": [
    "# StandardScaler y_train\n",
    "# scaler2 = StandardScaler()\n",
    "# y_train = scaler2.fit_transform(y_train)"
   ]
  },
  {
   "cell_type": "code",
   "execution_count": 65,
   "id": "09a8d228-258e-49e7-be2b-6ce51bc8a878",
   "metadata": {
    "tags": []
   },
   "outputs": [],
   "source": [
    "# StandardScaler y_test\n",
    "# y_test = scaler2.transform(y_test)"
   ]
  },
  {
   "cell_type": "markdown",
   "id": "813dcbe4-c584-4568-bd11-54c095ae9878",
   "metadata": {},
   "source": [
    "### Apply linear regression"
   ]
  },
  {
   "cell_type": "code",
   "execution_count": 66,
   "id": "767d87d0-f94a-42c0-ac5f-e9ebaf71416e",
   "metadata": {
    "tags": []
   },
   "outputs": [],
   "source": [
    "ln = LinearRegression()\n",
    "model = ln.fit(X_train, y_train)"
   ]
  },
  {
   "cell_type": "code",
   "execution_count": 67,
   "id": "db690280-d0f0-4aa4-95f0-b5f04da96905",
   "metadata": {
    "tags": []
   },
   "outputs": [
    {
     "data": {
      "text/plain": [
       "array([[ 0.09450049,  0.06792675,  0.05210393,  0.021259  ,  0.162384  ,\n",
       "         0.14007668,  0.1033783 ,  0.07309277,  0.15809749, -0.08862895,\n",
       "        -0.03035456,  0.05060753,  0.10952429, -0.04081338,  0.02388964,\n",
       "        -0.39744726, -0.26318292,  0.48951751,  0.23549455,  0.02127703,\n",
       "        -0.07042588]])"
      ]
     },
     "execution_count": 67,
     "metadata": {},
     "output_type": "execute_result"
    }
   ],
   "source": [
    "model.coef_"
   ]
  },
  {
   "cell_type": "code",
   "execution_count": 68,
   "id": "6b1811c2-cb54-45c0-b707-3d0faf550065",
   "metadata": {
    "tags": []
   },
   "outputs": [
    {
     "data": {
      "text/plain": [
       "array([0.30729843])"
      ]
     },
     "execution_count": 68,
     "metadata": {},
     "output_type": "execute_result"
    }
   ],
   "source": [
    "model.intercept_"
   ]
  },
  {
   "cell_type": "markdown",
   "id": "324ac4c2-18a2-4043-b882-a43f88434a56",
   "metadata": {},
   "source": [
    "### Create predictions for the test set"
   ]
  },
  {
   "cell_type": "code",
   "execution_count": 69,
   "id": "d11dfdf6-0668-4c9e-99dd-25bd1c31474e",
   "metadata": {
    "tags": []
   },
   "outputs": [],
   "source": [
    "y_pred = model.predict(X_test)"
   ]
  },
  {
   "cell_type": "code",
   "execution_count": 70,
   "id": "c50982ad-5ecc-49e8-a6cb-d11d6087f535",
   "metadata": {
    "tags": []
   },
   "outputs": [
    {
     "data": {
      "text/plain": [
       "array([[0.23656764],\n",
       "       [0.29819848],\n",
       "       [0.52054362],\n",
       "       ...,\n",
       "       [0.08659924],\n",
       "       [0.1897914 ],\n",
       "       [0.17778129]])"
      ]
     },
     "execution_count": 70,
     "metadata": {},
     "output_type": "execute_result"
    }
   ],
   "source": [
    "y_test"
   ]
  },
  {
   "cell_type": "code",
   "execution_count": 71,
   "id": "f27dc0e4-f866-4b13-a9fb-ad6588206b6c",
   "metadata": {
    "tags": []
   },
   "outputs": [],
   "source": [
    "# # inverse transforming predictions\n",
    "# y_pred = scaler2.inverse_transform(y_pred)\n",
    "# y_test = scaler2.inverse_transform(y_test)"
   ]
  },
  {
   "cell_type": "code",
   "execution_count": 72,
   "id": "d531bd9d-f849-44e0-b0d8-fd3eb59f26e7",
   "metadata": {
    "tags": []
   },
   "outputs": [],
   "source": [
    "y_pred = pd.DataFrame(y_pred)"
   ]
  },
  {
   "cell_type": "code",
   "execution_count": 73,
   "id": "b3665005-d58b-4410-9ac2-5b139c599e21",
   "metadata": {
    "tags": []
   },
   "outputs": [],
   "source": [
    "y_test = pd.DataFrame(y_test)\n",
    "y_test = y_test.reset_index(drop=True)"
   ]
  },
  {
   "cell_type": "code",
   "execution_count": 74,
   "id": "b8ca847d-f5e1-4ea8-b832-62eb4cd10e14",
   "metadata": {
    "tags": []
   },
   "outputs": [],
   "source": [
    "y_test = y_test.rename(columns={0: 'y_test'})"
   ]
  },
  {
   "cell_type": "code",
   "execution_count": 75,
   "id": "b60f59a3-e8f9-478b-bbdf-ed5ef6e36d36",
   "metadata": {
    "tags": []
   },
   "outputs": [
    {
     "data": {
      "text/html": [
       "<div>\n",
       "<style scoped>\n",
       "    .dataframe tbody tr th:only-of-type {\n",
       "        vertical-align: middle;\n",
       "    }\n",
       "\n",
       "    .dataframe tbody tr th {\n",
       "        vertical-align: top;\n",
       "    }\n",
       "\n",
       "    .dataframe thead th {\n",
       "        text-align: right;\n",
       "    }\n",
       "</style>\n",
       "<table border=\"1\" class=\"dataframe\">\n",
       "  <thead>\n",
       "    <tr style=\"text-align: right;\">\n",
       "      <th></th>\n",
       "      <th>y_test</th>\n",
       "    </tr>\n",
       "  </thead>\n",
       "  <tbody>\n",
       "    <tr>\n",
       "      <th>0</th>\n",
       "      <td>0.236568</td>\n",
       "    </tr>\n",
       "    <tr>\n",
       "      <th>1</th>\n",
       "      <td>0.298198</td>\n",
       "    </tr>\n",
       "    <tr>\n",
       "      <th>2</th>\n",
       "      <td>0.520544</td>\n",
       "    </tr>\n",
       "    <tr>\n",
       "      <th>3</th>\n",
       "      <td>0.181416</td>\n",
       "    </tr>\n",
       "    <tr>\n",
       "      <th>4</th>\n",
       "      <td>0.044090</td>\n",
       "    </tr>\n",
       "    <tr>\n",
       "      <th>...</th>\n",
       "      <td>...</td>\n",
       "    </tr>\n",
       "    <tr>\n",
       "      <th>6265</th>\n",
       "      <td>0.054994</td>\n",
       "    </tr>\n",
       "    <tr>\n",
       "      <th>6266</th>\n",
       "      <td>0.080120</td>\n",
       "    </tr>\n",
       "    <tr>\n",
       "      <th>6267</th>\n",
       "      <td>0.086599</td>\n",
       "    </tr>\n",
       "    <tr>\n",
       "      <th>6268</th>\n",
       "      <td>0.189791</td>\n",
       "    </tr>\n",
       "    <tr>\n",
       "      <th>6269</th>\n",
       "      <td>0.177781</td>\n",
       "    </tr>\n",
       "  </tbody>\n",
       "</table>\n",
       "<p>6270 rows × 1 columns</p>\n",
       "</div>"
      ],
      "text/plain": [
       "        y_test\n",
       "0     0.236568\n",
       "1     0.298198\n",
       "2     0.520544\n",
       "3     0.181416\n",
       "4     0.044090\n",
       "...        ...\n",
       "6265  0.054994\n",
       "6266  0.080120\n",
       "6267  0.086599\n",
       "6268  0.189791\n",
       "6269  0.177781\n",
       "\n",
       "[6270 rows x 1 columns]"
      ]
     },
     "execution_count": 75,
     "metadata": {},
     "output_type": "execute_result"
    }
   ],
   "source": [
    "y_test"
   ]
  },
  {
   "cell_type": "code",
   "execution_count": 76,
   "id": "ecb1e281-9983-4b86-a71b-916fd764cc98",
   "metadata": {
    "tags": []
   },
   "outputs": [],
   "source": [
    "residuals_df = pd.concat([y_test,y_pred], axis=1)"
   ]
  },
  {
   "cell_type": "code",
   "execution_count": 77,
   "id": "54a2cb66-46b8-4a55-a34a-95cb7e2eb4c5",
   "metadata": {
    "tags": []
   },
   "outputs": [],
   "source": [
    "residuals_df = residuals_df.rename(columns={0: 'y_pred'})"
   ]
  },
  {
   "cell_type": "code",
   "execution_count": 78,
   "id": "0a85fde3-a0d0-4dfe-9aed-603e106749c4",
   "metadata": {
    "tags": []
   },
   "outputs": [],
   "source": [
    "residuals_df['residual'] = residuals_df['y_test'] - residuals_df['y_pred']"
   ]
  },
  {
   "cell_type": "code",
   "execution_count": 79,
   "id": "38dd379e-0ec5-4223-9251-0f091ad96daa",
   "metadata": {},
   "outputs": [],
   "source": [
    "# residuals_df.to_csv(\"residuals_df_df_mexico.csv\")"
   ]
  },
  {
   "cell_type": "code",
   "execution_count": 80,
   "id": "0c291063-b74a-4065-be3a-696f7ef8073d",
   "metadata": {
    "tags": []
   },
   "outputs": [],
   "source": [
    "residuals_df = residuals_df.sort_values(by='y_pred', ascending=True)"
   ]
  },
  {
   "cell_type": "code",
   "execution_count": 81,
   "id": "ed08c791-95d0-4ce9-b708-9746a7d6be1a",
   "metadata": {
    "tags": []
   },
   "outputs": [
    {
     "data": {
      "text/html": [
       "<div>\n",
       "<style scoped>\n",
       "    .dataframe tbody tr th:only-of-type {\n",
       "        vertical-align: middle;\n",
       "    }\n",
       "\n",
       "    .dataframe tbody tr th {\n",
       "        vertical-align: top;\n",
       "    }\n",
       "\n",
       "    .dataframe thead th {\n",
       "        text-align: right;\n",
       "    }\n",
       "</style>\n",
       "<table border=\"1\" class=\"dataframe\">\n",
       "  <thead>\n",
       "    <tr style=\"text-align: right;\">\n",
       "      <th></th>\n",
       "      <th>y_test</th>\n",
       "      <th>y_pred</th>\n",
       "      <th>residual</th>\n",
       "    </tr>\n",
       "  </thead>\n",
       "  <tbody>\n",
       "    <tr>\n",
       "      <th>5447</th>\n",
       "      <td>0.047092</td>\n",
       "      <td>-0.107083</td>\n",
       "      <td>0.154175</td>\n",
       "    </tr>\n",
       "    <tr>\n",
       "      <th>1695</th>\n",
       "      <td>0.043932</td>\n",
       "      <td>-0.098788</td>\n",
       "      <td>0.142720</td>\n",
       "    </tr>\n",
       "    <tr>\n",
       "      <th>3391</th>\n",
       "      <td>0.018963</td>\n",
       "      <td>-0.096119</td>\n",
       "      <td>0.115082</td>\n",
       "    </tr>\n",
       "    <tr>\n",
       "      <th>6064</th>\n",
       "      <td>0.044090</td>\n",
       "      <td>-0.095165</td>\n",
       "      <td>0.139255</td>\n",
       "    </tr>\n",
       "    <tr>\n",
       "      <th>5563</th>\n",
       "      <td>0.037295</td>\n",
       "      <td>-0.093932</td>\n",
       "      <td>0.131227</td>\n",
       "    </tr>\n",
       "    <tr>\n",
       "      <th>...</th>\n",
       "      <td>...</td>\n",
       "      <td>...</td>\n",
       "      <td>...</td>\n",
       "    </tr>\n",
       "    <tr>\n",
       "      <th>5006</th>\n",
       "      <td>1.000000</td>\n",
       "      <td>0.812401</td>\n",
       "      <td>0.187599</td>\n",
       "    </tr>\n",
       "    <tr>\n",
       "      <th>4781</th>\n",
       "      <td>1.000000</td>\n",
       "      <td>0.812595</td>\n",
       "      <td>0.187405</td>\n",
       "    </tr>\n",
       "    <tr>\n",
       "      <th>98</th>\n",
       "      <td>1.000000</td>\n",
       "      <td>0.816348</td>\n",
       "      <td>0.183652</td>\n",
       "    </tr>\n",
       "    <tr>\n",
       "      <th>579</th>\n",
       "      <td>1.000000</td>\n",
       "      <td>0.816578</td>\n",
       "      <td>0.183422</td>\n",
       "    </tr>\n",
       "    <tr>\n",
       "      <th>126</th>\n",
       "      <td>1.000000</td>\n",
       "      <td>0.819060</td>\n",
       "      <td>0.180940</td>\n",
       "    </tr>\n",
       "  </tbody>\n",
       "</table>\n",
       "<p>6270 rows × 3 columns</p>\n",
       "</div>"
      ],
      "text/plain": [
       "        y_test    y_pred  residual\n",
       "5447  0.047092 -0.107083  0.154175\n",
       "1695  0.043932 -0.098788  0.142720\n",
       "3391  0.018963 -0.096119  0.115082\n",
       "6064  0.044090 -0.095165  0.139255\n",
       "5563  0.037295 -0.093932  0.131227\n",
       "...        ...       ...       ...\n",
       "5006  1.000000  0.812401  0.187599\n",
       "4781  1.000000  0.812595  0.187405\n",
       "98    1.000000  0.816348  0.183652\n",
       "579   1.000000  0.816578  0.183422\n",
       "126   1.000000  0.819060  0.180940\n",
       "\n",
       "[6270 rows x 3 columns]"
      ]
     },
     "execution_count": 81,
     "metadata": {},
     "output_type": "execute_result"
    }
   ],
   "source": [
    "residuals_df "
   ]
  },
  {
   "cell_type": "code",
   "execution_count": 82,
   "id": "d5899583-9f95-4e9a-a36c-600f099f9d8e",
   "metadata": {
    "tags": []
   },
   "outputs": [],
   "source": [
    "residuals_df.to_csv(\"residuals_df_mexico.csv\")"
   ]
  },
  {
   "cell_type": "markdown",
   "id": "6935ce1f-e1a1-45b4-969d-d68900380372",
   "metadata": {},
   "source": [
    "### Calculating metrics"
   ]
  },
  {
   "cell_type": "code",
   "execution_count": 83,
   "id": "db78d2ae-3b81-418c-af6e-4d4b83a7cb73",
   "metadata": {
    "tags": []
   },
   "outputs": [
    {
     "data": {
      "text/plain": [
       "-0.002735679755828758"
      ]
     },
     "execution_count": 83,
     "metadata": {},
     "output_type": "execute_result"
    }
   ],
   "source": [
    "mean_error = residuals_df['residual'].mean()\n",
    "mean_error"
   ]
  },
  {
   "cell_type": "markdown",
   "id": "4b892ffa-df01-4b8d-818a-bc0ebdab48fb",
   "metadata": {},
   "source": [
    "- The negative sign of the Mean Error suggests that, on average, the model's predictions are slightly lower than the actual values. This indicates a slight bias in the model's predictions, where it tends to underestimate the dependent variable.\n",
    "- The magnitude of the Mean Error, which is very close to zero (-0.0095 when rounded), implies that the average bias across all predictions is very small. This means that, despite the bias towards underestimation, the model is relatively accurate on average across the dataset."
   ]
  },
  {
   "cell_type": "code",
   "execution_count": 84,
   "id": "aed5701f-0b5c-42a8-8602-b5cfc871942f",
   "metadata": {
    "tags": []
   },
   "outputs": [
    {
     "data": {
      "text/plain": [
       "0.022754243802589193"
      ]
     },
     "execution_count": 84,
     "metadata": {},
     "output_type": "execute_result"
    }
   ],
   "source": [
    "mse = mean_squared_error(y_test, y_pred)\n",
    "mse"
   ]
  },
  {
   "cell_type": "markdown",
   "id": "cfe3d4d2-336e-44f4-9d94-d449eaad9ad3",
   "metadata": {},
   "source": [
    "- MSE measures the average of the squares of the errors, that is, the average squared difference between the estimated values and the actual value. MSE is a measure of the quality of an estimator—it is always non-negative, and values closer to zero are better"
   ]
  },
  {
   "cell_type": "code",
   "execution_count": 85,
   "id": "0440d2e9-e415-40a1-96c8-f87c4625e7b5",
   "metadata": {
    "tags": []
   },
   "outputs": [
    {
     "data": {
      "text/plain": [
       "0.15084509870257368"
      ]
     },
     "execution_count": 85,
     "metadata": {},
     "output_type": "execute_result"
    }
   ],
   "source": [
    "rmse = rmse = sqrt(mse)\n",
    "rmse"
   ]
  },
  {
   "cell_type": "code",
   "execution_count": 86,
   "id": "52f14396-2b17-49b6-b9f5-dff270feb774",
   "metadata": {
    "tags": []
   },
   "outputs": [
    {
     "data": {
      "text/plain": [
       "0.09722141659730223"
      ]
     },
     "execution_count": 86,
     "metadata": {},
     "output_type": "execute_result"
    }
   ],
   "source": [
    "mae = mean_absolute_error(y_test, y_pred)\n",
    "mae"
   ]
  },
  {
   "cell_type": "markdown",
   "id": "fcae1004-e72d-4b78-8808-714097c9299f",
   "metadata": {},
   "source": [
    "### Computing R2_score for test_set"
   ]
  },
  {
   "cell_type": "code",
   "execution_count": 87,
   "id": "06826ea3-a984-496f-bba9-15ac2e7ae4aa",
   "metadata": {
    "tags": []
   },
   "outputs": [
    {
     "data": {
      "text/plain": [
       "0.41"
      ]
     },
     "execution_count": 87,
     "metadata": {},
     "output_type": "execute_result"
    }
   ],
   "source": [
    "r2_test = round(r2_score(y_test, y_pred), 3)\n",
    "r2_test"
   ]
  },
  {
   "cell_type": "markdown",
   "id": "a20abcd1-fe10-4419-ac75-0753f34ab74d",
   "metadata": {},
   "source": [
    "### Computing R2_score for train_set"
   ]
  },
  {
   "cell_type": "code",
   "execution_count": 88,
   "id": "8bded628-a9e3-456f-9944-579d835315ec",
   "metadata": {
    "tags": []
   },
   "outputs": [
    {
     "data": {
      "text/plain": [
       "0.4"
      ]
     },
     "execution_count": 88,
     "metadata": {},
     "output_type": "execute_result"
    }
   ],
   "source": [
    "y_pred_train = pd.DataFrame(model.predict(X_train))\n",
    "r2_train = round(r2_score(y_train, y_pred_train), 2)\n",
    "r2_train"
   ]
  },
  {
   "cell_type": "markdown",
   "id": "c28866d2-9c46-43cb-afc9-fc8480bd824c",
   "metadata": {},
   "source": [
    "### Calculating adjusted R^2"
   ]
  },
  {
   "cell_type": "code",
   "execution_count": 89,
   "id": "75a02ca9-2441-473c-a054-c19bc4388c7d",
   "metadata": {
    "tags": []
   },
   "outputs": [
    {
     "name": "stdout",
     "output_type": "stream",
     "text": [
      "Adjusted R2: 0.40934043119510244 \n",
      "\n"
     ]
    }
   ],
   "source": [
    "# Calculating adjusted R^2\n",
    "n = X_train.shape[0]  # Number of observations in the training set\n",
    "p = X_train.shape[1]  # Number of features used for training\n",
    "adjusted_r2 = 1 - (1 - r2_test) * (n - 1) / (n - p - 1)\n",
    "print(f'Adjusted R2: {adjusted_r2} \\n')"
   ]
  },
  {
   "cell_type": "markdown",
   "id": "467245dd-2c15-453d-908f-ce0503d1f8b0",
   "metadata": {},
   "source": [
    "### Plot"
   ]
  },
  {
   "cell_type": "code",
   "execution_count": 90,
   "id": "394737da-1ca0-4d7c-834c-67d3ba7513d6",
   "metadata": {
    "tags": []
   },
   "outputs": [],
   "source": [
    "features_names = list(X)"
   ]
  },
  {
   "cell_type": "code",
   "execution_count": 91,
   "id": "bbdebc3b-8ba0-4291-89e8-45a5f203db54",
   "metadata": {
    "tags": []
   },
   "outputs": [],
   "source": [
    "coefficients = model.coef_\n",
    "coefficients = [i for i in coefficients[0]]"
   ]
  },
  {
   "cell_type": "code",
   "execution_count": 92,
   "id": "0e1c3910-e6f5-46d4-b192-307e4455de93",
   "metadata": {
    "tags": []
   },
   "outputs": [],
   "source": [
    "fi_dict = {'name':features_names, 'coeff':coefficients}\n",
    "fi_df = pd.DataFrame(fi_dict)"
   ]
  },
  {
   "cell_type": "code",
   "execution_count": 93,
   "id": "65937ad8-a63a-44f8-8bcf-e328bb58746b",
   "metadata": {
    "tags": []
   },
   "outputs": [],
   "source": [
    "fi_df = fi_df.sort_values(by='coeff', ascending=False)"
   ]
  },
  {
   "cell_type": "code",
   "execution_count": 94,
   "id": "2fa908b4-a153-43bd-8fd2-36669a8ea9f8",
   "metadata": {
    "tags": []
   },
   "outputs": [
    {
     "data": {
      "text/plain": [
       "<Axes: xlabel='coeff', ylabel='name'>"
      ]
     },
     "execution_count": 94,
     "metadata": {},
     "output_type": "execute_result"
    },
    {
     "data": {
      "image/png": "[encoded data removed]",
      "text/plain": [
       "<Figure size 1000x1200 with 1 Axes>"
      ]
     },
     "metadata": {},
     "output_type": "display_data"
    }
   ],
   "source": [
    "plt.figure(figsize=(10,12))\n",
    "sns.barplot(y= fi_df['name'], x = fi_df['coeff'])"
   ]
  },
  {
   "cell_type": "code",
   "execution_count": null,
   "id": "331eb9de-bc21-45f4-9cb6-d6eb936352dd",
   "metadata": {},
   "outputs": [],
   "source": []
  },
  {
   "cell_type": "code",
   "execution_count": null,
   "id": "1261d2f7-f4bf-414b-9813-fc1a7530a584",
   "metadata": {},
   "outputs": [],
   "source": []
  },
  {
   "cell_type": "code",
   "execution_count": null,
   "id": "813d8d6b-e712-46cb-ad94-3f46dd2f6fb9",
   "metadata": {},
   "outputs": [],
   "source": []
  },
  {
   "cell_type": "code",
   "execution_count": null,
   "id": "c86ec085-a218-4674-8017-9b6af99d9f72",
   "metadata": {},
   "outputs": [],
   "source": []
  },
  {
   "cell_type": "code",
   "execution_count": null,
   "id": "e454d277-da71-4dcf-af71-b6ad833fb31c",
   "metadata": {},
   "outputs": [],
   "source": []
  }
 ],
 "metadata": {
  "kernelspec": {
   "display_name": "Python 3 (ipykernel)",
   "language": "python",
   "name": "python3"
  },
  "language_info": {
   "codemirror_mode": {
    "name": "ipython",
    "version": 3
   },
   "file_extension": ".py",
   "mimetype": "text/x-python",
   "name": "python",
   "nbconvert_exporter": "python",
   "pygments_lexer": "ipython3",
   "version": "3.11.5"
  }
 },
 "nbformat": 4,
 "nbformat_minor": 5
}
